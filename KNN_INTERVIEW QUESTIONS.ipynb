{
 "cells": [
  {
   "cell_type": "markdown",
   "id": "ed3f8e2e-6946-463f-bd2a-9d0b31adb031",
   "metadata": {},
   "source": [
    "1. What are the key hyperparameters in KNN?\n",
    "The most important hyperparameters in K-Nearest Neighbors (KNN) are:\n",
    "\n",
    "== n_neighbors (K)\n",
    "Number of neighbors to consider when making predictions.\n",
    "\n",
    "Small values of K (e.g., 1 or 3) can lead to overfitting.\n",
    "\n",
    "Larger values can lead to underfitting.\n",
    "\n",
    "Usually chosen as an odd number to avoid ties in classification.\n",
    "\n",
    "== weights\n",
    "Defines the weight function used in prediction.\n",
    "\n",
    "'uniform': All neighbors have equal weight.\n",
    "\n",
    "'distance': Closer neighbors have more influence.\n",
    "\n",
    "== metric\n",
    "The distance function used to find neighbors.\n",
    "\n",
    "Common options: 'euclidean', 'manhattan', 'minkowski', etc.\n",
    "\n",
    "== p (only for minkowski metric)\n",
    "Power parameter:\n",
    "\n",
    "p = 1: Manhattan distance\n",
    "\n",
    "p = 2: Euclidean distance\n",
    "\n",
    "Generalizes multiple distance measures.\n",
    "\n",
    "== algorithm\n",
    "Algorithm used to compute nearest neighbors:\n",
    "\n",
    "'auto': Automatically chooses the best algorithm.\n",
    "\n",
    "'ball_tree'\n",
    "\n",
    "'kd_tree'\n",
    "\n",
    "'brute'\n",
    "\n",
    "== leaf_size\n",
    "Affects the speed and memory usage of kd_tree and ball_tree.\n",
    "\n",
    "Important for performance tuning on large datasets."
   ]
  },
  {
   "cell_type": "code",
   "execution_count": 1,
   "id": "892deb9f-c778-4e27-8b03-38c6bf8a1ab7",
   "metadata": {},
   "outputs": [
    {
     "ename": "SyntaxError",
     "evalue": "invalid syntax (2382201080.py, line 3)",
     "output_type": "error",
     "traceback": [
      "\u001b[1;36m  Cell \u001b[1;32mIn[1], line 3\u001b[1;36m\u001b[0m\n\u001b[1;33m    KNN uses various distance metrics to measure similarity between data points. Below are the commonly used ones:\u001b[0m\n\u001b[1;37m        ^\u001b[0m\n\u001b[1;31mSyntaxError\u001b[0m\u001b[1;31m:\u001b[0m invalid syntax\n"
     ]
    }
   ],
   "source": [
    "2. What Distance Metrics Can Be Used in KNN?\n",
    "K-Nearest Neighbors (KNN) uses different distance metrics to measure the similarity or closeness between data points. Here's a simple explanation of the most common ones:\n",
    "\n",
    " 1. Euclidean Distance\n",
    "It calculates the straight-line distance between two points in space.\n",
    "\n",
    "Commonly used for continuous numerical features.\n",
    "\n",
    "It's intuitive and widely used in most KNN applications.\n",
    "\n",
    "2. Manhattan Distance\n",
    "Also called L1 distance or city block distance.\n",
    "\n",
    "It measures the total vertical and horizontal distance between points (like navigating a city grid).\n",
    "\n",
    "Useful when movement is restricted to horizontal and vertical paths.\n",
    "\n",
    "3. Minkowski Distance\n",
    "A general form that includes both Euclidean and Manhattan distances.\n",
    "\n",
    "You can adjust a parameter (called p) to behave like Euclidean or Manhattan depending on your use case.\n",
    "\n",
    "Useful when you want flexibility in choosing how distances are calculated.\n",
    "\n",
    "4. Chebyshev Distance\n",
    "Measures the maximum difference between corresponding coordinates of two points.\n",
    "\n",
    "Often used in scenarios like chess (where one move can go in any direction a fixed number of steps).\n",
    "\n",
    "Helps when you want to consider the largest individual difference between features.\n",
    "\n"
   ]
  },
  {
   "cell_type": "code",
   "execution_count": null,
   "id": "52d5000f-a373-4489-99ae-24dc6ac38782",
   "metadata": {},
   "outputs": [],
   "source": []
  }
 ],
 "metadata": {
  "kernelspec": {
   "display_name": "Python 3 (ipykernel)",
   "language": "python",
   "name": "python3"
  },
  "language_info": {
   "codemirror_mode": {
    "name": "ipython",
    "version": 3
   },
   "file_extension": ".py",
   "mimetype": "text/x-python",
   "name": "python",
   "nbconvert_exporter": "python",
   "pygments_lexer": "ipython3",
   "version": "3.12.7"
  }
 },
 "nbformat": 4,
 "nbformat_minor": 5
}
